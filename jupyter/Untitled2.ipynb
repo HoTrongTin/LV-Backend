{
 "cells": [
  {
   "cell_type": "code",
   "execution_count": 1,
   "id": "94096f1d",
   "metadata": {},
   "outputs": [
    {
     "data": {
      "text/html": [
       "\n",
       "            <div>\n",
       "                <p><b>SparkSession - hive</b></p>\n",
       "                \n",
       "        <div>\n",
       "            <p><b>SparkContext</b></p>\n",
       "\n",
       "            <p><a href=\"http://hadoop-master:4041\">Spark UI</a></p>\n",
       "\n",
       "            <dl>\n",
       "              <dt>Version</dt>\n",
       "                <dd><code>v3.2.1</code></dd>\n",
       "              <dt>Master</dt>\n",
       "                <dd><code>spark://10.1.8.101:7077</code></dd>\n",
       "              <dt>AppName</dt>\n",
       "                <dd><code>PySparkShell</code></dd>\n",
       "            </dl>\n",
       "        </div>\n",
       "        \n",
       "            </div>\n",
       "        "
      ],
      "text/plain": [
       "<pyspark.sql.session.SparkSession at 0x7f946dfc7c18>"
      ]
     },
     "execution_count": 1,
     "metadata": {},
     "output_type": "execute_result"
    }
   ],
   "source": [
    "spark"
   ]
  },
  {
   "cell_type": "code",
   "execution_count": 2,
   "id": "a16f9d07",
   "metadata": {},
   "outputs": [],
   "source": [
    "import pyspark\n",
    "from delta import *\n",
    "import pandas as pd\n",
    "from matplotlib import pyplot as plt\n",
    "import time\n",
    "\n",
    "spark.conf.set('spark.sql.repl.eagerEval.enabled', True)"
   ]
  },
  {
   "cell_type": "code",
   "execution_count": 3,
   "id": "21496ec2",
   "metadata": {},
   "outputs": [
    {
     "data": {
      "text/plain": [
       "(2405, 3498)"
      ]
     },
     "execution_count": 3,
     "metadata": {},
     "output_type": "execute_result"
    }
   ],
   "source": [
    "df = spark.sql(\"\"\"\n",
    "select dob from delta.`/delta_MIMIC2/d_patients`\n",
    "\"\"\")\n",
    "\n",
    "age = list(map(lambda dob: int(dob.split('/')[2][:4]), df.toPandas()['dob'].values.tolist()))\n",
    "from functools import reduce\n",
    "\n",
    "maxV = reduce(lambda a, b: a if a > b else b, age)\n",
    "minV = reduce(lambda a, b: a if a < b else b, age)\n",
    "minV, maxV"
   ]
  },
  {
   "cell_type": "code",
   "execution_count": 13,
   "id": "4019f7de",
   "metadata": {},
   "outputs": [
    {
     "data": {
      "text/html": [
       "<table border='1'>\n",
       "<tr><th>sex</th><th>count(1)</th></tr>\n",
       "<tr><td>F</td><td>1856</td></tr>\n",
       "<tr><td>null</td><td>13</td></tr>\n",
       "<tr><td>M</td><td>2131</td></tr>\n",
       "</table>\n"
      ],
      "text/plain": [
       "+----+--------+\n",
       "| sex|count(1)|\n",
       "+----+--------+\n",
       "|   F|    1856|\n",
       "|null|      13|\n",
       "|   M|    2131|\n",
       "+----+--------+"
      ]
     },
     "execution_count": 13,
     "metadata": {},
     "output_type": "execute_result"
    }
   ],
   "source": [
    "spark.sql(\"\"\"\n",
    "select sex, count(*) from delta.`/delta_MIMIC2/d_patients` as d_patients\n",
    "group by sex\n",
    "\"\"\")"
   ]
  },
  {
   "cell_type": "code",
   "execution_count": 4,
   "id": "88a3f786",
   "metadata": {},
   "outputs": [
    {
     "data": {
      "image/png": "[encoded data removed]",
      "text/plain": [
       "<Figure size 432x288 with 1 Axes>"
      ]
     },
     "metadata": {
      "needs_background": "light"
     },
     "output_type": "display_data"
    }
   ],
   "source": [
    "df = spark.sql(\"\"\"\n",
    "select sex, count(*) from delta.`/delta_MIMIC2/d_patients` as d_patients\n",
    "group by sex\n",
    "\"\"\").toPandas().sort_values(by=['count(1)'])\n",
    "df\n",
    "\n",
    "x = df['sex'].values.tolist()\n",
    "x[0] = 'N/A'\n",
    "y = df['count(1)'].values.tolist()\n",
    "# print(x)\n",
    "\n",
    "plt.bar(x,y)\n",
    "plt.show()"
   ]
  },
  {
   "cell_type": "code",
   "execution_count": 5,
   "id": "7dc348ae",
   "metadata": {},
   "outputs": [
    {
     "name": "stdout",
     "output_type": "stream",
     "text": [
      "+----------------------+\n",
      "|ratioOfDeathInHospital|\n",
      "+----------------------+\n",
      "|               0.58675|\n",
      "+----------------------+\n",
      "\n"
     ]
    }
   ],
   "source": [
    "total_patients = spark.sql(\"\"\"         \n",
    "SELECT count(*)\n",
    "FROM delta.`/delta_MIMIC2/d_patients`\n",
    "\"\"\").first()['count(1)']\n",
    "\n",
    "spark.sql(\"\"\"select count(*)/{0} as ratioOfDeathInHospital from delta.`/delta_MIMIC2/d_patients` as d_patients\n",
    "where hospital_expire_flg = 'N'\n",
    "\"\"\".format(total_patients)).show()"
   ]
  },
  {
   "cell_type": "code",
   "execution_count": 16,
   "id": "db581114",
   "metadata": {},
   "outputs": [
    {
     "name": "stdout",
     "output_type": "stream",
     "text": [
      "Time to overwrite: 2.4700443744659424\n",
      "0.4451219512195122\n",
      "0.4332077658649667\n"
     ]
    }
   ],
   "source": [
    "startT = time.time()\n",
    "spark.read.format(\"delta\").load(\"/delta_MIMIC2/demographic_detail\").withColumn(\"hadm_id\",pyspark.sql.functions.col(\"hadm_id\").cast(\"int\")).write.format(\"delta\").mode(\"overwrite\").option(\"overwriteSchema\",True).save(\"/delta_MIMIC2/demographic_detail\")\n",
    "print('Time to overwrite: '+str(time.time()-startT))\n",
    "        \n",
    "totalpatientsURGENT = spark.sql(\"\"\"\n",
    "select COUNT(*) from\n",
    "(SELECT ROW_NUMBER() OVER(PARTITION BY subject_id ORDER BY hadm_id desc) \n",
    "    AS ROW_NUMBER, subject_id, admission_type_descr from delta.`/delta_MIMIC2/demographic_detail`) tableLastest \n",
    "join delta.`/delta_MIMIC2/d_patients` d_patients\n",
    "on d_patients.subject_id = tableLastest.subject_id where ROW_NUMBER = 1 and admission_type_descr = 'URGENT'\n",
    "\"\"\").first()['count(1)']\n",
    "\n",
    "patientsURGENTDiedInHospital = spark.sql(\"\"\"\n",
    "select COUNT(*) from\n",
    "(SELECT ROW_NUMBER() OVER(PARTITION BY subject_id ORDER BY hadm_id desc) \n",
    "    AS ROW_NUMBER, subject_id, admission_type_descr from delta.`/delta_MIMIC2/demographic_detail`) tableLastest \n",
    "join delta.`/delta_MIMIC2/d_patients` d_patients\n",
    "on d_patients.subject_id = tableLastest.subject_id where ROW_NUMBER = 1 and admission_type_descr = 'URGENT' and hospital_expire_flg = 'Y'\n",
    "\"\"\").first()['count(1)']\n",
    "\n",
    "print(patientsURGENTDiedInHospital/totalpatientsURGENT)\n",
    "\n",
    "totalpatientsEMERGENCY = spark.sql(\"\"\"\n",
    "select COUNT(*) from\n",
    "(SELECT ROW_NUMBER() OVER(PARTITION BY subject_id ORDER BY hadm_id desc) \n",
    "    AS ROW_NUMBER, subject_id, admission_type_descr from delta.`/delta_MIMIC2/demographic_detail`) tableLastest \n",
    "join delta.`/delta_MIMIC2/d_patients` d_patients\n",
    "on d_patients.subject_id = tableLastest.subject_id where ROW_NUMBER = 1 and admission_type_descr = 'EMERGENCY'\n",
    "\"\"\").first()['count(1)']\n",
    "\n",
    "patientsEMERGENCYDiedInHospital = spark.sql(\"\"\"\n",
    "select COUNT(*) from\n",
    "(SELECT ROW_NUMBER() OVER(PARTITION BY subject_id ORDER BY hadm_id desc) \n",
    "    AS ROW_NUMBER, subject_id, admission_type_descr from delta.`/delta_MIMIC2/demographic_detail`) tableLastest \n",
    "join delta.`/delta_MIMIC2/d_patients` d_patients\n",
    "on d_patients.subject_id = tableLastest.subject_id where ROW_NUMBER = 1 and admission_type_descr = 'EMERGENCY' and hospital_expire_flg = 'Y'\n",
    "\"\"\").first()['count(1)']\n",
    "\n",
    "print(patientsEMERGENCYDiedInHospital/totalpatientsEMERGENCY)"
   ]
  },
  {
   "cell_type": "code",
   "execution_count": 17,
   "id": "787ff493",
   "metadata": {},
   "outputs": [
    {
     "data": {
      "text/html": [
       "<div>\n",
       "<style scoped>\n",
       "    .dataframe tbody tr th:only-of-type {\n",
       "        vertical-align: middle;\n",
       "    }\n",
       "\n",
       "    .dataframe tbody tr th {\n",
       "        vertical-align: top;\n",
       "    }\n",
       "\n",
       "    .dataframe thead th {\n",
       "        text-align: right;\n",
       "    }\n",
       "</style>\n",
       "<table border=\"1\" class=\"dataframe\">\n",
       "  <thead>\n",
       "    <tr style=\"text-align: right;\">\n",
       "      <th></th>\n",
       "      <th>itemid</th>\n",
       "      <th>description</th>\n",
       "      <th>stay_days</th>\n",
       "    </tr>\n",
       "  </thead>\n",
       "  <tbody>\n",
       "    <tr>\n",
       "      <th>8</th>\n",
       "      <td>60013</td>\n",
       "      <td>PERIPH &amp; CRANIAL NERVE &amp; OTHER NERV SYST</td>\n",
       "      <td>25.857143</td>\n",
       "    </tr>\n",
       "    <tr>\n",
       "      <th>275</th>\n",
       "      <td>60687</td>\n",
       "      <td>ACUTE LEUKEMIA W/O MAJOR O.R. PROCEDURE</td>\n",
       "      <td>26.571429</td>\n",
       "    </tr>\n",
       "    <tr>\n",
       "      <th>162</th>\n",
       "      <td>60347</td>\n",
       "      <td>WND DEBRID &amp; SKN GRFT EXCEPT HAND,FOR MU</td>\n",
       "      <td>27.600000</td>\n",
       "    </tr>\n",
       "    <tr>\n",
       "      <th>4</th>\n",
       "      <td>60007</td>\n",
       "      <td>ECMO OR TRACH W MV 96+ HRS OR PDX EXC FA</td>\n",
       "      <td>27.833333</td>\n",
       "    </tr>\n",
       "    <tr>\n",
       "      <th>141</th>\n",
       "      <td>60305</td>\n",
       "      <td>BILIARY TRACT PROC EXCEPT ONLY CHOLECYST</td>\n",
       "      <td>28.100000</td>\n",
       "    </tr>\n",
       "    <tr>\n",
       "      <th>324</th>\n",
       "      <td>60778</td>\n",
       "      <td>TRACH W MV 96+ HRS OR PDX EXC FACE, MOUT</td>\n",
       "      <td>28.106383</td>\n",
       "    </tr>\n",
       "    <tr>\n",
       "      <th>368</th>\n",
       "      <td>61002</td>\n",
       "      <td>OTHER O.R. PROCEDURES FOR MULTIPLE SIGNI</td>\n",
       "      <td>29.500000</td>\n",
       "    </tr>\n",
       "    <tr>\n",
       "      <th>226</th>\n",
       "      <td>60535</td>\n",
       "      <td>UTERINE &amp; ADNEXA PROC FOR OVARIAN OR ADN</td>\n",
       "      <td>30.500000</td>\n",
       "    </tr>\n",
       "    <tr>\n",
       "      <th>289</th>\n",
       "      <td>60709</td>\n",
       "      <td>HIV WITH EXTENSIVE O.R. PROCEDURES</td>\n",
       "      <td>30.666667</td>\n",
       "    </tr>\n",
       "    <tr>\n",
       "      <th>262</th>\n",
       "      <td>60640</td>\n",
       "      <td>DISORDERS OF PANCREAS EXCEPT MALIGNANCY</td>\n",
       "      <td>33.000000</td>\n",
       "    </tr>\n",
       "    <tr>\n",
       "      <th>256</th>\n",
       "      <td>60626</td>\n",
       "      <td>O.R. PROCEDURE W PRINCIPAL DIAGNOSES OF</td>\n",
       "      <td>33.000000</td>\n",
       "    </tr>\n",
       "    <tr>\n",
       "      <th>284</th>\n",
       "      <td>60703</td>\n",
       "      <td>TRACHEOSTOMY EXCEPT FOR FACE, MOUTH &amp; NE</td>\n",
       "      <td>33.954198</td>\n",
       "    </tr>\n",
       "    <tr>\n",
       "      <th>200</th>\n",
       "      <td>60453</td>\n",
       "      <td>OTHER ENDOCRINE, NUTRIT &amp; METAB O.R. PRO</td>\n",
       "      <td>34.600000</td>\n",
       "    </tr>\n",
       "    <tr>\n",
       "      <th>322</th>\n",
       "      <td>60775</td>\n",
       "      <td>ECMO OR TRACH W MV 96+HRS OR PDX EXC FAC</td>\n",
       "      <td>35.298246</td>\n",
       "    </tr>\n",
       "    <tr>\n",
       "      <th>323</th>\n",
       "      <td>60776</td>\n",
       "      <td>TRACH W MV 96+ HRS OR PDX EXC FACE, MOUT</td>\n",
       "      <td>40.515152</td>\n",
       "    </tr>\n",
       "    <tr>\n",
       "      <th>230</th>\n",
       "      <td>60542</td>\n",
       "      <td>OTHER FEMALE REPRODUCTIVE SYSTEM O.R. PR</td>\n",
       "      <td>42.000000</td>\n",
       "    </tr>\n",
       "    <tr>\n",
       "      <th>147</th>\n",
       "      <td>60320</td>\n",
       "      <td>HEPATOBILIARY DIAGNOSTIC PROCEDURE FOR N</td>\n",
       "      <td>62.000000</td>\n",
       "    </tr>\n",
       "    <tr>\n",
       "      <th>282</th>\n",
       "      <td>60700</td>\n",
       "      <td>BONE MARROW TRANSPLANT (ALLOGENEIC AND A</td>\n",
       "      <td>64.153846</td>\n",
       "    </tr>\n",
       "    <tr>\n",
       "      <th>263</th>\n",
       "      <td>60642</td>\n",
       "      <td>SKIN GRAFTS FOR INJURIES</td>\n",
       "      <td>68.000000</td>\n",
       "    </tr>\n",
       "    <tr>\n",
       "      <th>198</th>\n",
       "      <td>60448</td>\n",
       "      <td>O.R. PROCEDURES FOR OBESITY</td>\n",
       "      <td>79.000000</td>\n",
       "    </tr>\n",
       "  </tbody>\n",
       "</table>\n",
       "</div>"
      ],
      "text/plain": [
       "    itemid                               description  stay_days\n",
       "8    60013  PERIPH & CRANIAL NERVE & OTHER NERV SYST  25.857143\n",
       "275  60687  ACUTE LEUKEMIA W/O MAJOR O.R. PROCEDURE   26.571429\n",
       "162  60347  WND DEBRID & SKN GRFT EXCEPT HAND,FOR MU  27.600000\n",
       "4    60007  ECMO OR TRACH W MV 96+ HRS OR PDX EXC FA  27.833333\n",
       "141  60305  BILIARY TRACT PROC EXCEPT ONLY CHOLECYST  28.100000\n",
       "324  60778  TRACH W MV 96+ HRS OR PDX EXC FACE, MOUT  28.106383\n",
       "368  61002  OTHER O.R. PROCEDURES FOR MULTIPLE SIGNI  29.500000\n",
       "226  60535  UTERINE & ADNEXA PROC FOR OVARIAN OR ADN  30.500000\n",
       "289  60709  HIV WITH EXTENSIVE O.R. PROCEDURES        30.666667\n",
       "262  60640  DISORDERS OF PANCREAS EXCEPT MALIGNANCY   33.000000\n",
       "256  60626  O.R. PROCEDURE W PRINCIPAL DIAGNOSES OF   33.000000\n",
       "284  60703  TRACHEOSTOMY EXCEPT FOR FACE, MOUTH & NE  33.954198\n",
       "200  60453  OTHER ENDOCRINE, NUTRIT & METAB O.R. PRO  34.600000\n",
       "322  60775  ECMO OR TRACH W MV 96+HRS OR PDX EXC FAC  35.298246\n",
       "323  60776  TRACH W MV 96+ HRS OR PDX EXC FACE, MOUT  40.515152\n",
       "230  60542  OTHER FEMALE REPRODUCTIVE SYSTEM O.R. PR  42.000000\n",
       "147  60320  HEPATOBILIARY DIAGNOSTIC PROCEDURE FOR N  62.000000\n",
       "282  60700  BONE MARROW TRANSPLANT (ALLOGENEIC AND A  64.153846\n",
       "263  60642  SKIN GRAFTS FOR INJURIES                  68.000000\n",
       "198  60448  O.R. PROCEDURES FOR OBESITY               79.000000"
      ]
     },
     "execution_count": 17,
     "metadata": {},
     "output_type": "execute_result"
    }
   ],
   "source": [
    "df = spark.sql(\"\"\"\n",
    "select disch_dt, admit_dt, description, drgevents.itemid from delta.`/delta_MIMIC2/drgevents` as drgevents \n",
    "join delta.`/delta_MIMIC2/admissions` as admissions\n",
    "join delta.`/delta_MIMIC2/d_codeditems` as d_codeditems\n",
    "on d_codeditems.itemid = drgevents.itemid \n",
    "and drgevents.hadm_id = admissions.hadm_id\n",
    "\"\"\").toPandas()\n",
    "df\n",
    "from datetime import datetime\n",
    "\n",
    "df[\"stay_days\"] = df[\"disch_dt\"].apply(lambda daytime: datetime.strptime(daytime, '%d/%m/%Y %H:%M:%S')) - df[\"admit_dt\"].apply(lambda daytime: datetime.strptime(daytime, '%d/%m/%Y %H:%M:%S'))\n",
    "df[\"stay_days\"] = df[\"stay_days\"].apply(lambda timedelta : timedelta.days + 1 if timedelta.seconds//3600 >= 8 else timedelta.days)\n",
    "\n",
    "df = df[[\"stay_days\",\"description\",\"itemid\"]]\n",
    "\n",
    "dfGroup = df.groupby(['itemid','description'], as_index=False).mean()\n",
    "\n",
    "dfSort = dfGroup.sort_values(by=['stay_days']).tail(20)\n",
    "dfSort"
   ]
  },
  {
   "cell_type": "code",
   "execution_count": 18,
   "id": "54399031",
   "metadata": {},
   "outputs": [
    {
     "data": {
      "image/png": "[encoded data removed]",
      "text/plain": [
       "<Figure size 432x288 with 1 Axes>"
      ]
     },
     "metadata": {
      "needs_background": "light"
     },
     "output_type": "display_data"
    }
   ],
   "source": [
    "from matplotlib import pyplot as plt\n",
    "x = dfSort['itemid'].values.tolist()\n",
    "y = dfSort['stay_days'].values.tolist()\n",
    "\n",
    "plt.bar(x,y)\n",
    "plt.show()"
   ]
  },
  {
   "cell_type": "code",
   "execution_count": 21,
   "id": "252283ec",
   "metadata": {},
   "outputs": [
    {
     "data": {
      "text/html": [
       "<div>\n",
       "<style scoped>\n",
       "    .dataframe tbody tr th:only-of-type {\n",
       "        vertical-align: middle;\n",
       "    }\n",
       "\n",
       "    .dataframe tbody tr th {\n",
       "        vertical-align: top;\n",
       "    }\n",
       "\n",
       "    .dataframe thead th {\n",
       "        text-align: right;\n",
       "    }\n",
       "</style>\n",
       "<table border=\"1\" class=\"dataframe\">\n",
       "  <thead>\n",
       "    <tr style=\"text-align: right;\">\n",
       "      <th></th>\n",
       "      <th>itemid</th>\n",
       "      <th>description</th>\n",
       "      <th>type</th>\n",
       "      <th>numCases</th>\n",
       "    </tr>\n",
       "  </thead>\n",
       "  <tbody>\n",
       "    <tr>\n",
       "      <th>0</th>\n",
       "      <td>60614</td>\n",
       "      <td>SEPTICEMIA AGE &gt;17</td>\n",
       "      <td>HFCA_DRG</td>\n",
       "      <td>277</td>\n",
       "    </tr>\n",
       "    <tr>\n",
       "      <th>1</th>\n",
       "      <td>60691</td>\n",
       "      <td>RESPIRATORY SYSTEM DIAGNOSIS WITH VENTIL</td>\n",
       "      <td>HFCA_DRG</td>\n",
       "      <td>260</td>\n",
       "    </tr>\n",
       "    <tr>\n",
       "      <th>2</th>\n",
       "      <td>60272</td>\n",
       "      <td>G.I. HEMORRHAGE WITH CC</td>\n",
       "      <td>HFCA_DRG</td>\n",
       "      <td>160</td>\n",
       "    </tr>\n",
       "    <tr>\n",
       "      <th>3</th>\n",
       "      <td>60024</td>\n",
       "      <td>INTRACRANIAL HEMORRHAGE &amp; STROKE WITH IN</td>\n",
       "      <td>HFCA_DRG</td>\n",
       "      <td>160</td>\n",
       "    </tr>\n",
       "    <tr>\n",
       "      <th>4</th>\n",
       "      <td>60181</td>\n",
       "      <td>MAJOR CARDIOVASCULAR PROCEDURES W CC</td>\n",
       "      <td>HFCA_DRG</td>\n",
       "      <td>141</td>\n",
       "    </tr>\n",
       "    <tr>\n",
       "      <th>5</th>\n",
       "      <td>60703</td>\n",
       "      <td>TRACHEOSTOMY EXCEPT FOR FACE, MOUTH &amp; NE</td>\n",
       "      <td>HFCA_DRG</td>\n",
       "      <td>131</td>\n",
       "    </tr>\n",
       "    <tr>\n",
       "      <th>6</th>\n",
       "      <td>60206</td>\n",
       "      <td>HEART FAILURE &amp; SHOCK</td>\n",
       "      <td>HFCA_DRG</td>\n",
       "      <td>117</td>\n",
       "    </tr>\n",
       "    <tr>\n",
       "      <th>7</th>\n",
       "      <td>60490</td>\n",
       "      <td>RENAL FAILURE</td>\n",
       "      <td>HFCA_DRG</td>\n",
       "      <td>95</td>\n",
       "    </tr>\n",
       "    <tr>\n",
       "      <th>8</th>\n",
       "      <td>60681</td>\n",
       "      <td>EXTENSIVE O.R. PROCEDURE UNRELATED TO PR</td>\n",
       "      <td>HFCA_DRG</td>\n",
       "      <td>87</td>\n",
       "    </tr>\n",
       "    <tr>\n",
       "      <th>9</th>\n",
       "      <td>60002</td>\n",
       "      <td>CRANIOTOMY AGE &gt;17 W CC</td>\n",
       "      <td>HFCA_DRG</td>\n",
       "      <td>85</td>\n",
       "    </tr>\n",
       "  </tbody>\n",
       "</table>\n",
       "</div>"
      ],
      "text/plain": [
       "  itemid                               description      type  numCases\n",
       "0  60614  SEPTICEMIA AGE >17                        HFCA_DRG       277\n",
       "1  60691  RESPIRATORY SYSTEM DIAGNOSIS WITH VENTIL  HFCA_DRG       260\n",
       "2  60272  G.I. HEMORRHAGE WITH CC                   HFCA_DRG       160\n",
       "3  60024  INTRACRANIAL HEMORRHAGE & STROKE WITH IN  HFCA_DRG       160\n",
       "4  60181  MAJOR CARDIOVASCULAR PROCEDURES W CC      HFCA_DRG       141\n",
       "5  60703  TRACHEOSTOMY EXCEPT FOR FACE, MOUTH & NE  HFCA_DRG       131\n",
       "6  60206  HEART FAILURE & SHOCK                     HFCA_DRG       117\n",
       "7  60490  RENAL FAILURE                             HFCA_DRG        95\n",
       "8  60681  EXTENSIVE O.R. PROCEDURE UNRELATED TO PR  HFCA_DRG        87\n",
       "9  60002  CRANIOTOMY AGE >17 W CC                   HFCA_DRG        85"
      ]
     },
     "execution_count": 21,
     "metadata": {},
     "output_type": "execute_result"
    }
   ],
   "source": [
    "dfGroup = spark.sql(\"\"\"\n",
    "select drgevents.itemid, description, type, count(*) as numCases  from delta.`/delta_MIMIC2/drgevents` as drgevents \n",
    "join delta.`/delta_MIMIC2/d_codeditems` as d_codeditems \n",
    "on drgevents.itemid = d_codeditems.itemid\n",
    "group by drgevents.itemid, description, type\n",
    "order by numCases desc\n",
    "\"\"\").toPandas().head(10)\n",
    "dfGroup"
   ]
  },
  {
   "cell_type": "code",
   "execution_count": 22,
   "id": "ac3e0b6c",
   "metadata": {},
   "outputs": [
    {
     "data": {
      "image/png": "[encoded data removed]",
      "text/plain": [
       "<Figure size 432x288 with 1 Axes>"
      ]
     },
     "metadata": {
      "needs_background": "light"
     },
     "output_type": "display_data"
    }
   ],
   "source": [
    "from matplotlib import pyplot as plt\n",
    "x = dfGroup['itemid'].values.tolist()\n",
    "y = dfGroup['numCases'].values.tolist()\n",
    "\n",
    "plt.bar(x,y)\n",
    "plt.show()"
   ]
  },
  {
   "cell_type": "code",
   "execution_count": 25,
   "id": "a1bdec49",
   "metadata": {},
   "outputs": [
    {
     "data": {
      "text/html": [
       "<div>\n",
       "<style scoped>\n",
       "    .dataframe tbody tr th:only-of-type {\n",
       "        vertical-align: middle;\n",
       "    }\n",
       "\n",
       "    .dataframe tbody tr th {\n",
       "        vertical-align: top;\n",
       "    }\n",
       "\n",
       "    .dataframe thead th {\n",
       "        text-align: right;\n",
       "    }\n",
       "</style>\n",
       "<table border=\"1\" class=\"dataframe\">\n",
       "  <thead>\n",
       "    <tr style=\"text-align: right;\">\n",
       "      <th></th>\n",
       "      <th>stay_days</th>\n",
       "      <th>intime</th>\n",
       "    </tr>\n",
       "  </thead>\n",
       "  <tbody>\n",
       "    <tr>\n",
       "      <th>0</th>\n",
       "      <td>0</td>\n",
       "      <td>270</td>\n",
       "    </tr>\n",
       "    <tr>\n",
       "      <th>1</th>\n",
       "      <td>1</td>\n",
       "      <td>1289</td>\n",
       "    </tr>\n",
       "    <tr>\n",
       "      <th>2</th>\n",
       "      <td>2</td>\n",
       "      <td>1130</td>\n",
       "    </tr>\n",
       "    <tr>\n",
       "      <th>3</th>\n",
       "      <td>3</td>\n",
       "      <td>789</td>\n",
       "    </tr>\n",
       "    <tr>\n",
       "      <th>4</th>\n",
       "      <td>4</td>\n",
       "      <td>490</td>\n",
       "    </tr>\n",
       "    <tr>\n",
       "      <th>...</th>\n",
       "      <td>...</td>\n",
       "      <td>...</td>\n",
       "    </tr>\n",
       "    <tr>\n",
       "      <th>69</th>\n",
       "      <td>99</td>\n",
       "      <td>2</td>\n",
       "    </tr>\n",
       "    <tr>\n",
       "      <th>70</th>\n",
       "      <td>104</td>\n",
       "      <td>1</td>\n",
       "    </tr>\n",
       "    <tr>\n",
       "      <th>71</th>\n",
       "      <td>118</td>\n",
       "      <td>2</td>\n",
       "    </tr>\n",
       "    <tr>\n",
       "      <th>72</th>\n",
       "      <td>154</td>\n",
       "      <td>1</td>\n",
       "    </tr>\n",
       "    <tr>\n",
       "      <th>73</th>\n",
       "      <td>173</td>\n",
       "      <td>1</td>\n",
       "    </tr>\n",
       "  </tbody>\n",
       "</table>\n",
       "<p>74 rows × 2 columns</p>\n",
       "</div>"
      ],
      "text/plain": [
       "    stay_days  intime\n",
       "0           0     270\n",
       "1           1    1289\n",
       "2           2    1130\n",
       "3           3     789\n",
       "4           4     490\n",
       "..        ...     ...\n",
       "69         99       2\n",
       "70        104       1\n",
       "71        118       2\n",
       "72        154       1\n",
       "73        173       1\n",
       "\n",
       "[74 rows x 2 columns]"
      ]
     },
     "execution_count": 25,
     "metadata": {},
     "output_type": "execute_result"
    }
   ],
   "source": [
    "from datetime import datetime\n",
    "\n",
    "df = spark.sql(\"\"\"\n",
    "select intime, outtime from delta.`/delta_MIMIC2/icustayevents`\n",
    "\"\"\")\n",
    "\n",
    "df = df.toPandas()\n",
    "df[\"stay_days\"] = df[\"outtime\"].apply(lambda daytime: datetime.strptime(daytime, '%d/%m/%Y %H:%M:%S')) - df[\"intime\"].apply(lambda daytime: datetime.strptime(daytime, '%d/%m/%Y %H:%M:%S'))\n",
    "df[\"stay_days\"] = df[\"stay_days\"].apply(lambda timedelta : timedelta.days + 1 if timedelta.seconds//3600 >= 8 else timedelta.days)\n",
    "\n",
    "dfGroup = df.groupby('stay_days', as_index=False)[\"intime\"].count()\n",
    "dfGroup"
   ]
  },
  {
   "cell_type": "code",
   "execution_count": 26,
   "id": "0ff4c43c",
   "metadata": {},
   "outputs": [
    {
     "data": {
      "image/png": "[encoded data removed]",
      "text/plain": [
       "<Figure size 432x288 with 1 Axes>"
      ]
     },
     "metadata": {
      "needs_background": "light"
     },
     "output_type": "display_data"
    }
   ],
   "source": [
    "from matplotlib import pyplot as plt\n",
    "x = dfGroup['stay_days']\n",
    "y = dfGroup['intime'].values.tolist()\n",
    "\n",
    "plt.bar(x,y)\n",
    "plt.show()"
   ]
  },
  {
   "cell_type": "code",
   "execution_count": 27,
   "id": "5fb56933",
   "metadata": {},
   "outputs": [
    {
     "data": {
      "text/html": [
       "<div>\n",
       "<style scoped>\n",
       "    .dataframe tbody tr th:only-of-type {\n",
       "        vertical-align: middle;\n",
       "    }\n",
       "\n",
       "    .dataframe tbody tr th {\n",
       "        vertical-align: top;\n",
       "    }\n",
       "\n",
       "    .dataframe thead th {\n",
       "        text-align: right;\n",
       "    }\n",
       "</style>\n",
       "<table border=\"1\" class=\"dataframe\">\n",
       "  <thead>\n",
       "    <tr style=\"text-align: right;\">\n",
       "      <th></th>\n",
       "      <th>stay_days</th>\n",
       "      <th>disch_dt</th>\n",
       "    </tr>\n",
       "  </thead>\n",
       "  <tbody>\n",
       "    <tr>\n",
       "      <th>0</th>\n",
       "      <td>0</td>\n",
       "      <td>87</td>\n",
       "    </tr>\n",
       "    <tr>\n",
       "      <th>1</th>\n",
       "      <td>1</td>\n",
       "      <td>272</td>\n",
       "    </tr>\n",
       "    <tr>\n",
       "      <th>2</th>\n",
       "      <td>2</td>\n",
       "      <td>286</td>\n",
       "    </tr>\n",
       "    <tr>\n",
       "      <th>3</th>\n",
       "      <td>3</td>\n",
       "      <td>370</td>\n",
       "    </tr>\n",
       "    <tr>\n",
       "      <th>4</th>\n",
       "      <td>4</td>\n",
       "      <td>361</td>\n",
       "    </tr>\n",
       "    <tr>\n",
       "      <th>...</th>\n",
       "      <td>...</td>\n",
       "      <td>...</td>\n",
       "    </tr>\n",
       "    <tr>\n",
       "      <th>94</th>\n",
       "      <td>138</td>\n",
       "      <td>1</td>\n",
       "    </tr>\n",
       "    <tr>\n",
       "      <th>95</th>\n",
       "      <td>146</td>\n",
       "      <td>1</td>\n",
       "    </tr>\n",
       "    <tr>\n",
       "      <th>96</th>\n",
       "      <td>154</td>\n",
       "      <td>1</td>\n",
       "    </tr>\n",
       "    <tr>\n",
       "      <th>97</th>\n",
       "      <td>167</td>\n",
       "      <td>1</td>\n",
       "    </tr>\n",
       "    <tr>\n",
       "      <th>98</th>\n",
       "      <td>295</td>\n",
       "      <td>1</td>\n",
       "    </tr>\n",
       "  </tbody>\n",
       "</table>\n",
       "<p>99 rows × 2 columns</p>\n",
       "</div>"
      ],
      "text/plain": [
       "    stay_days  disch_dt\n",
       "0           0        87\n",
       "1           1       272\n",
       "2           2       286\n",
       "3           3       370\n",
       "4           4       361\n",
       "..        ...       ...\n",
       "94        138         1\n",
       "95        146         1\n",
       "96        154         1\n",
       "97        167         1\n",
       "98        295         1\n",
       "\n",
       "[99 rows x 2 columns]"
      ]
     },
     "execution_count": 27,
     "metadata": {},
     "output_type": "execute_result"
    }
   ],
   "source": [
    "df = spark.sql(\"\"\"\n",
    "select admit_dt, disch_dt from delta.`/delta_MIMIC2/admissions`\n",
    "\"\"\")\n",
    "\n",
    "df = df.toPandas()\n",
    "df[\"stay_days\"] = df[\"disch_dt\"].apply(lambda daytime: datetime.strptime(daytime, '%d/%m/%Y %H:%M:%S')) - df[\"admit_dt\"].apply(lambda daytime: datetime.strptime(daytime, '%d/%m/%Y %H:%M:%S'))\n",
    "df[\"stay_days\"] = df[\"stay_days\"].apply(lambda timedelta : timedelta.days + 1 if timedelta.seconds//3600 >= 8 else timedelta.days)\n",
    "\n",
    "dfGroup = df.groupby('stay_days', as_index=False)[\"disch_dt\"].count()\n",
    "dfGroup"
   ]
  },
  {
   "cell_type": "code",
   "execution_count": 28,
   "id": "bbabe30a",
   "metadata": {},
   "outputs": [
    {
     "data": {
      "image/png": "[encoded data removed]",
      "text/plain": [
       "<Figure size 432x288 with 1 Axes>"
      ]
     },
     "metadata": {
      "needs_background": "light"
     },
     "output_type": "display_data"
    }
   ],
   "source": [
    "x = dfGroup['stay_days']\n",
    "y = dfGroup['disch_dt'].values.tolist()\n",
    "\n",
    "plt.bar(x,y)\n",
    "plt.show()"
   ]
  },
  {
   "cell_type": "code",
   "execution_count": 29,
   "id": "814dca09",
   "metadata": {},
   "outputs": [
    {
     "data": {
      "text/html": [
       "<table border='1'>\n",
       "<tr><th>needICU</th><th>numOfCases</th></tr>\n",
       "<tr><td>1</td><td>2943</td></tr>\n",
       "<tr><td>2</td><td>664</td></tr>\n",
       "<tr><td>3</td><td>207</td></tr>\n",
       "<tr><td>4</td><td>78</td></tr>\n",
       "<tr><td>5</td><td>47</td></tr>\n",
       "<tr><td>6</td><td>16</td></tr>\n",
       "<tr><td>7</td><td>10</td></tr>\n",
       "<tr><td>8</td><td>8</td></tr>\n",
       "<tr><td>9</td><td>4</td></tr>\n",
       "<tr><td>10</td><td>3</td></tr>\n",
       "<tr><td>26</td><td>1</td></tr>\n",
       "<tr><td>12</td><td>1</td></tr>\n",
       "<tr><td>11</td><td>1</td></tr>\n",
       "<tr><td>13</td><td>1</td></tr>\n",
       "<tr><td>47</td><td>1</td></tr>\n",
       "</table>\n"
      ],
      "text/plain": [
       "+-------+----------+\n",
       "|needICU|numOfCases|\n",
       "+-------+----------+\n",
       "|      1|      2943|\n",
       "|      2|       664|\n",
       "|      3|       207|\n",
       "|      4|        78|\n",
       "|      5|        47|\n",
       "|      6|        16|\n",
       "|      7|        10|\n",
       "|      8|         8|\n",
       "|      9|         4|\n",
       "|     10|         3|\n",
       "|     26|         1|\n",
       "|     12|         1|\n",
       "|     11|         1|\n",
       "|     13|         1|\n",
       "|     47|         1|\n",
       "+-------+----------+"
      ]
     },
     "execution_count": 29,
     "metadata": {},
     "output_type": "execute_result"
    }
   ],
   "source": [
    "spark.sql(\"\"\"\n",
    "select needICU , count(*) as numOfCases from\n",
    "(select subject_id, count(*) as needICU from delta.`/delta_MIMIC2/icustayevents` group by subject_id) as group1 group by needICU order by numOfCases desc\n",
    "\"\"\")"
   ]
  },
  {
   "cell_type": "code",
   "execution_count": 37,
   "id": "cd592c45",
   "metadata": {},
   "outputs": [
    {
     "data": {
      "text/html": [
       "<table border='1'>\n",
       "<tr><th>icustay_id</th><th>count(1)</th></tr>\n",
       "<tr><td>16980</td><td>4</td></tr>\n",
       "<tr><td>32887</td><td>4</td></tr>\n",
       "<tr><td>21148</td><td>4</td></tr>\n",
       "<tr><td>16231</td><td>4</td></tr>\n",
       "<tr><td>11865</td><td>4</td></tr>\n",
       "<tr><td>19220</td><td>4</td></tr>\n",
       "<tr><td>27660</td><td>4</td></tr>\n",
       "<tr><td>19273</td><td>5</td></tr>\n",
       "<tr><td>4054</td><td>5</td></tr>\n",
       "<tr><td>27909</td><td>4</td></tr>\n",
       "<tr><td>29966</td><td>4</td></tr>\n",
       "<tr><td>20667</td><td>6</td></tr>\n",
       "<tr><td>2693</td><td>4</td></tr>\n",
       "<tr><td>9027</td><td>4</td></tr>\n",
       "<tr><td>22690</td><td>5</td></tr>\n",
       "<tr><td>16956</td><td>4</td></tr>\n",
       "<tr><td>18978</td><td>5</td></tr>\n",
       "<tr><td>17965</td><td>4</td></tr>\n",
       "<tr><td>22192</td><td>4</td></tr>\n",
       "<tr><td>16659</td><td>6</td></tr>\n",
       "</table>\n",
       "only showing top 20 rows\n"
      ],
      "text/plain": [
       "+----------+--------+\n",
       "|icustay_id|count(1)|\n",
       "+----------+--------+\n",
       "|     16980|       4|\n",
       "|     32887|       4|\n",
       "|     21148|       4|\n",
       "|     16231|       4|\n",
       "|     11865|       4|\n",
       "|     19220|       4|\n",
       "|     27660|       4|\n",
       "|     19273|       5|\n",
       "|      4054|       5|\n",
       "|     27909|       4|\n",
       "|     29966|       4|\n",
       "|     20667|       6|\n",
       "|      2693|       4|\n",
       "|      9027|       4|\n",
       "|     22690|       5|\n",
       "|     16956|       4|\n",
       "|     18978|       5|\n",
       "|     17965|       4|\n",
       "|     22192|       4|\n",
       "|     16659|       6|\n",
       "+----------+--------+\n",
       "only showing top 20 rows"
      ]
     },
     "execution_count": 37,
     "metadata": {},
     "output_type": "execute_result"
    }
   ],
   "source": [
    "df = spark.sql(\"\"\"\n",
    "select icustay_id, count(*) from delta.`/delta_MIMIC2/censusevents` where icustay_id is not null\n",
    "group by icustay_id\n",
    "having count(*) > 3\n",
    "\n",
    "\"\"\")\n",
    "df"
   ]
  },
  {
   "cell_type": "code",
   "execution_count": 15,
   "id": "aa77d8ba",
   "metadata": {},
   "outputs": [
    {
     "name": "stdout",
     "output_type": "stream",
     "text": [
      "+--------------------------------------------------+\n",
      "|description                                       |\n",
      "+--------------------------------------------------+\n",
      "|SECONDARY MALIGNANT NEOPLASM OF BRAIN AND SPINAL C|\n",
      "|MALIGNANT NEOPLASM OF OTHER PARTS OF BRONCHUS OR L|\n",
      "|CHRONIC OR UNSPECIFIED GASTRIC ULCER WITH HEMORRHA|\n",
      "|HYPOSMOLALITY AND/OR HYPONATREMIA                 |\n",
      "|CONGESTIVE HEART FAILURE UNSPECIFIED              |\n",
      "|OTHER CONVULSIONS                                 |\n",
      "|PURE HYPERCHOLESTEROLEMIA                         |\n",
      "|UNSPECIFIED ESSENTIAL HYPERTENSION                |\n",
      "|SUBENDOCARDIAL INFARCTION INITIAL EPISODE OF CARE |\n",
      "|CONGESTIVE HEART FAILURE UNSPECIFIED              |\n",
      "|CHRONIC AIRWAY OBSTRUCTION NOT ELSEWHERE CLASSIFIE|\n",
      "|UNSPECIFIED GASTRITIS AND GASTRODUODENITIS WITH HE|\n",
      "|ACUTE POSTHEMORRHAGIC ANEMIA                      |\n",
      "|PNEUMONIA ORGANISM UNSPECIFIED                    |\n",
      "|CORONARY ATHEROSCLEROSIS OF NATIVE CORONARY ARTERY|\n",
      "|DIABETES MELLITUS WITHOUT COMPLICATION TYPE II OR |\n",
      "|OTHER SPECIFIED CARDIAC DYSRHYTHMIAS              |\n",
      "|POISONING BY OPIUM (ALKALOIDS) UNSPECIFIED        |\n",
      "|HUMAN IMMUNODEFICIENCY VIRUS (HIV) DISEASE        |\n",
      "|CHRONIC HEPATITIS C WITHOUT HEPATIC COMA          |\n",
      "+--------------------------------------------------+\n",
      "only showing top 20 rows\n",
      "\n"
     ]
    }
   ],
   "source": [
    "df = spark.sql(\"\"\"\n",
    "select description from delta.`/delta_MIMIC2/icd9` \n",
    "\"\"\")\n",
    "df.show(truncate=False)"
   ]
  },
  {
   "cell_type": "code",
   "execution_count": null,
   "id": "edd0ae54",
   "metadata": {},
   "outputs": [],
   "source": []
  }
 ],
 "metadata": {
  "kernelspec": {
   "display_name": "Python 3",
   "language": "python",
   "name": "python3"
  },
  "language_info": {
   "codemirror_mode": {
    "name": "ipython",
    "version": 3
   },
   "file_extension": ".py",
   "mimetype": "text/x-python",
   "name": "python",
   "nbconvert_exporter": "python",
   "pygments_lexer": "ipython3",
   "version": "3.6.9"
  }
 },
 "nbformat": 4,
 "nbformat_minor": 5
}
